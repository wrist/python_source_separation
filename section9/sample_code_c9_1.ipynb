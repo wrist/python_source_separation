{
 "cells": [
  {
   "cell_type": "code",
   "execution_count": 1,
   "metadata": {},
   "outputs": [],
   "source": [
    "from sample_code_c9_1 import *"
   ]
  },
  {
   "cell_type": "code",
   "execution_count": 2,
   "metadata": {},
   "outputs": [],
   "source": [
    "%matplotlib widget"
   ]
  },
  {
   "cell_type": "code",
   "execution_count": 3,
   "metadata": {},
   "outputs": [],
   "source": [
    "#乱数の種を初期化\n",
    "np.random.seed(0)"
   ]
  },
  {
   "cell_type": "code",
   "execution_count": 4,
   "metadata": {},
   "outputs": [],
   "source": [
    "#畳み込みに用いる音声波形\n",
    "clean_wave_files=[\"../CMU_ARCTIC/cmu_us_aew_arctic/wav/arctic_a0001.wav\"]"
   ]
  },
  {
   "cell_type": "code",
   "execution_count": 5,
   "metadata": {},
   "outputs": [],
   "source": [
    "#音源数\n",
    "n_sources=len(clean_wave_files)\n",
    "    \n",
    "#長さを調べる\n",
    "n_samples=0\n",
    "#ファイルを読み込む\n",
    "for clean_wave_file in clean_wave_files:\n",
    "    wav=wave.open(clean_wave_file)\n",
    "    if n_samples<wav.getnframes():\n",
    "        n_samples=wav.getnframes()\n",
    "    wav.close()\n",
    "    \n",
    "clean_data=np.zeros([n_sources,n_samples])\n",
    "\n",
    "#ファイルを読み込む\n",
    "s=0\n",
    "for clean_wave_file in clean_wave_files:\n",
    "    wav=wave.open(clean_wave_file)\n",
    "    data=wav.readframes(wav.getnframes())\n",
    "    data=np.frombuffer(data, dtype=np.int16)\n",
    "    data=data/np.iinfo(np.int16).max\n",
    "    clean_data[s,:wav.getnframes()]=data\n",
    "    wav.close()\n",
    "    s=s+1"
   ]
  },
  {
   "cell_type": "code",
   "execution_count": 6,
   "metadata": {},
   "outputs": [],
   "source": [
    "# シミュレーションのパラメータ\n",
    "\n",
    "#シミュレーションで用いる音源数\n",
    "n_sim_sources=1\n",
    "\n",
    "#サンプリング周波数\n",
    "sample_rate=16000\n",
    "\n",
    "#フレームサイズ\n",
    "N=1024\n",
    "\n",
    "#フレームシフト\n",
    "Nshift=int(N/4)\n",
    "\n",
    "\n",
    "#周波数の数\n",
    "Nk=int(N/2+1)\n",
    "\n",
    "#各ビンの周波数\n",
    "freqs=np.arange(0,Nk,1)*sample_rate/N\n",
    "\n",
    "#音声と雑音との比率 [dB]\n",
    "SNR=90."
   ]
  },
  {
   "cell_type": "code",
   "execution_count": 7,
   "metadata": {},
   "outputs": [],
   "source": [
    "#部屋の大きさ\n",
    "room_dim = np.r_[10.0, 10.0, 10.0]\n",
    "\n",
    "#マイクロホンアレイを置く部屋の場所\n",
    "mic_array_loc = room_dim / 2 + np.random.randn(3) * 0.1 \n",
    "\n",
    "#マイクロホンアレイのマイク配置\n",
    "mic_directions=np.array(\n",
    "    [[np.pi/2., theta/180.*np.pi] for theta in np.arange(180,361,180)\n",
    "    ]    )\n",
    "\n",
    "distance=0.01\n",
    "mic_alignments=np.zeros((3, mic_directions.shape[0]), dtype=mic_directions.dtype)\n",
    "mic_alignments[0, :] = np.cos(mic_directions[:, 1]) * np.sin(mic_directions[:, 0])\n",
    "mic_alignments[1, :] = np.sin(mic_directions[:, 1]) * np.sin(mic_directions[:, 0])\n",
    "mic_alignments[2, :] = np.cos(mic_directions[:, 0])\n",
    "mic_alignments *= distance\n",
    "\n",
    "#マイクロホン数\n",
    "n_channels=np.shape(mic_alignments)[1]\n",
    "\n",
    "#マイクロホンアレイの座標\n",
    "R=mic_alignments+mic_array_loc[:,None]"
   ]
  },
  {
   "cell_type": "code",
   "execution_count": 8,
   "metadata": {},
   "outputs": [],
   "source": [
    "is_use_reverb=True\n",
    "room = pa.ShoeBox(room_dim, fs=sample_rate, max_order=17,absorption=0.4)\n",
    "room_no_reverb = pa.ShoeBox(room_dim, fs=sample_rate, max_order=0)"
   ]
  },
  {
   "cell_type": "code",
   "execution_count": 9,
   "metadata": {},
   "outputs": [
    {
     "data": {
      "text/plain": [
       "<pyroomacoustics.room.ShoeBox at 0x7fe1af4a5a50>"
      ]
     },
     "execution_count": 9,
     "metadata": {},
     "output_type": "execute_result"
    }
   ],
   "source": [
    "# 用いるマイクロホンアレイの情報を設定する\n",
    "room.add_microphone_array(pa.MicrophoneArray(R, fs=room.fs))\n",
    "room_no_reverb.add_microphone_array(pa.MicrophoneArray(R, fs=room.fs))"
   ]
  },
  {
   "cell_type": "code",
   "execution_count": 10,
   "metadata": {},
   "outputs": [],
   "source": [
    "#音源の場所\n",
    "doas=np.array(\n",
    "    [[np.pi/2., np.pi]\n",
    "    ]    )\n",
    "\n",
    "#音源とマイクロホンの距離\n",
    "distance=1.\n",
    "\n",
    "source_locations=np.zeros((3, doas.shape[0]), dtype=doas.dtype)\n",
    "source_locations[0, :] = np.cos(doas[:, 1]) * np.sin(doas[:, 0])\n",
    "source_locations[1, :] = np.sin(doas[:, 1]) * np.sin(doas[:, 0])\n",
    "source_locations[2, :] = np.cos(doas[:, 0])\n",
    "source_locations *= distance\n",
    "source_locations += mic_array_loc[:, None]"
   ]
  },
  {
   "cell_type": "code",
   "execution_count": 11,
   "metadata": {},
   "outputs": [],
   "source": [
    "#各音源をシミュレーションに追加する\n",
    "for s in range(n_sim_sources):\n",
    "    clean_data[s]/= np.std(clean_data[s])\n",
    "    room.add_source(source_locations[:, s], signal=clean_data[s])\n",
    "    room_no_reverb.add_source(source_locations[:, s], signal=clean_data[s])"
   ]
  },
  {
   "cell_type": "code",
   "execution_count": 12,
   "metadata": {},
   "outputs": [
    {
     "data": {
      "application/vnd.jupyter.widget-view+json": {
       "model_id": "323fbca045ee415dbc0305d9e0754bf0",
       "version_major": 2,
       "version_minor": 0
      },
      "text/plain": [
       "Canvas(toolbar=Toolbar(toolitems=[('Home', 'Reset original view', 'home', 'home'), ('Back', 'Back to previous …"
      ]
     },
     "metadata": {},
     "output_type": "display_data"
    },
    {
     "data": {
      "text/plain": [
       "(<Figure size 640x480 with 1 Axes>,\n",
       " <mpl_toolkits.mplot3d.axes3d.Axes3D at 0x7fe1af4bad10>)"
      ]
     },
     "execution_count": 12,
     "metadata": {},
     "output_type": "execute_result"
    }
   ],
   "source": [
    "room.plot()"
   ]
  },
  {
   "cell_type": "code",
   "execution_count": 13,
   "metadata": {},
   "outputs": [
    {
     "data": {
      "application/vnd.jupyter.widget-view+json": {
       "model_id": "84e3bb2e56c84419b79302e7326e280c",
       "version_major": 2,
       "version_minor": 0
      },
      "text/plain": [
       "Canvas(toolbar=Toolbar(toolitems=[('Home', 'Reset original view', 'home', 'home'), ('Back', 'Back to previous …"
      ]
     },
     "metadata": {},
     "output_type": "display_data"
    },
    {
     "data": {
      "text/plain": [
       "(<Figure size 640x480 with 1 Axes>,\n",
       " <mpl_toolkits.mplot3d.axes3d.Axes3D at 0x7fe1af345590>)"
      ]
     },
     "execution_count": 13,
     "metadata": {},
     "output_type": "execute_result"
    }
   ],
   "source": [
    "room_no_reverb.plot()"
   ]
  },
  {
   "cell_type": "code",
   "execution_count": null,
   "metadata": {},
   "outputs": [],
   "source": [
    "#シミュレーションを回す\n",
    "room.simulate(snr=SNR)\n",
    "room_no_reverb.simulate(snr=90)\n",
    "\n",
    "#畳み込んだ波形を取得する(チャンネル、サンプル）\n",
    "multi_conv_data=room.mic_array.signals\n",
    "multi_conv_data_no_reverb=room_no_reverb.mic_array.signals\n",
    "\n",
    "wave_len=np.shape(multi_conv_data_no_reverb)[1]\n",
    "\n",
    "#畳み込んだ波形をファイルに書き込む\n",
    "write_file_from_time_signal(multi_conv_data_no_reverb[0,:wave_len]*np.iinfo(np.int16).max/20.,\"./dereverb_clean.wav\",sample_rate)\n",
    "\n",
    "#畳み込んだ波形をファイルに書き込む\n",
    "write_file_from_time_signal(multi_conv_data[0,:wave_len]*np.iinfo(np.int16).max/20.,\"./dereverb_in.wav\",sample_rate)\n",
    "\n",
    "#短時間フーリエ変換を行う\n",
    "f,t,stft_data=sp.stft(multi_conv_data,fs=sample_rate,window=\"hann\",nperseg=N,noverlap=N-Nshift)\n",
    "\n",
    "#WPEの繰り返し回数\n",
    "n_wpe_iterations=20\n",
    "\n",
    "#残響除去のパラメータ\n",
    "D=2\n",
    "Lh=5\n",
    "\n",
    "#過去のマイクロホン入力信号\n",
    "x_bar=make_x_bar(stft_data,D,Lh)\n",
    "\n",
    "#LSで残響除去\n",
    "x_dereverb_ls=dereverberation_ls(stft_data,x_bar)\n",
    "\n",
    "#x:入力信号( M, Nk, Lt)\n",
    "\n",
    "t,x_dereverb_ls=sp.istft(x_dereverb_ls,fs=sample_rate,window=\"hann\",nperseg=N,noverlap=N-Nshift)\n",
    "\n",
    "snr_pre=calculate_snr(multi_conv_data_no_reverb[0,...],multi_conv_data[0,...])\n",
    "snr_ls_post=calculate_snr(multi_conv_data_no_reverb[0,...],x_dereverb_ls)\n",
    "\n",
    "write_file_from_time_signal(x_dereverb_ls[:wave_len]*np.iinfo(np.int16).max/20.,\"./dereverb_ls_{}_{}.wav\".format(Lh,D),sample_rate)\n",
    "\n",
    "print(\"method:    \", \"LS\")\n",
    "print(\"Δsnr [dB]: {:.2f}\".format(snr_ls_post-snr_pre))"
   ]
  }
 ],
 "metadata": {
  "kernelspec": {
   "display_name": "Python 3",
   "language": "python",
   "name": "python3"
  },
  "language_info": {
   "codemirror_mode": {
    "name": "ipython",
    "version": 3
   },
   "file_extension": ".py",
   "mimetype": "text/x-python",
   "name": "python",
   "nbconvert_exporter": "python",
   "pygments_lexer": "ipython3",
   "version": "3.7.8"
  }
 },
 "nbformat": 4,
 "nbformat_minor": 4
}
